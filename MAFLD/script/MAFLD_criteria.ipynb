{
 "cells": [
  {
   "cell_type": "code",
   "execution_count": null,
   "metadata": {},
   "outputs": [
    {
     "name": "stderr",
     "output_type": "stream",
     "text": [
      "/var/folders/_q/8bx4f_jd77591946tt1yg1sc0000gn/T/ipykernel_57752/1145321760.py:4: DtypeWarning: Columns (4,6,10,11,12,13,15,17,19,20,21,22,23,24,25,31,37,39,43,49,109,110,112,113,114,115,116,117,120,121,122,123,188,193,203,213,221,224,228,232) have mixed types. Specify dtype option on import or set low_memory=False.\n",
      "  df = pd.read_csv(\"../input/liver_qc.cvs\")\n"
     ]
    },
    {
     "name": "stdout",
     "output_type": "stream",
     "text": [
      "Rows with MAFLD: 4802\n"
     ]
    }
   ],
   "source": [
    "import pandas as pd\n",
    "\n",
    "# Load data\n",
    "df = pd.read_csv(\"../input/liver_qc.cvs\")\n",
    "\n",
    "# Apply CAP filter\n",
    "cap = 248\n",
    "df = df[df[\"CAP Enhanced Mean (dB/m)\"] > cap].copy()\n",
    "#1 ID was mismatched between manual and the program for 248 and 263 cap score\n",
    "#this id was not included in the manual bcs the we did not included the hdl X chol med combination as it is not biologically valid\n",
    "# we should only check the chol med with triglycerides\n",
    "# Define individual binary condition columns\n",
    "df[\"BMI_cond\"] = (df['Final_bmi'] >= 23).astype(int)\n",
    "df[\"Male_waist_90\"] = ((df['Final_gender'] == 'Male') & (df['average_waist'] >= 90)).astype(int)\n",
    "df[\"Male_hdl_40\"] = ((df['Final_gender'] == 'Male') & (df['Serum HDL Cholesterol'] < 40)).astype(int)\n",
    "df[\"Female_waist_80\"] = ((df['Final_gender'] == 'Female') & (df['average_waist'] >= 80)).astype(int)\n",
    "df[\"Female_hdl_50\"] = ((df['Final_gender'] == 'Female') & (df['Serum HDL Cholesterol'] < 50)).astype(int)\n",
    "df[\"Triglycerides_cond\"] = ((df['Serum Triglycerides'] >= 150) | (df['medHis_highChol_medicine'] == 'Yes') ).astype(int)\n",
    "df[\"Diabetes_cond\"] = (df['Diabetic_final'] == 'Yes').astype(int)\n",
    "df[\"Prediabetes_cond\"] = (df['Prediabetics_final'] == 'Yes').astype(int)\n",
    "df[\"Hypertension_cond\"] = (df['Hypertension_final'] == 'Yes').astype(int)\n",
    "#df[\"Chol_med_cond\"] = (df['medHis_highChol_medicine'] == 'Yes').astype(int)\n",
    "df[\"HOMA_IR_2.5\"] = (df[\"HOMA IR\"]>=2.5).astype(int)\n",
    "# List of secondary conditions for summing\n",
    "secondary_condition_cols = [\n",
    "    \"Male_waist_90\", \"Male_hdl_40\", \"Female_waist_80\",\n",
    "    \"Female_hdl_50\", \"Triglycerides_cond\", \"Prediabetes_cond\",\n",
    "    \"Hypertension_cond\", \"HOMA_IR_2.5\"\n",
    "]\n",
    "\n",
    "# Sum of secondary conditions per row\n",
    "df[\"condition_sum\"] = df[secondary_condition_cols].sum(axis=1)\n",
    "\n",
    "# Apply final MAFLD criteria:\n",
    "# MASLD = 1 if (Diabetes == Yes) OR (BMI ≥ 23) OR (sum of secondary conditions ≥ 2)\n",
    "df[f\"MAFLD_{cap}\"] = (\n",
    "    (df[\"Diabetes_cond\"] == 1) |\n",
    "    (df[\"BMI_cond\"] == 1) |\n",
    "    (df[\"condition_sum\"] >= 2)\n",
    ").astype(int)\n",
    "\n",
    "# Save output\n",
    "df.to_csv(f\"../output/MAFLD_matrix_{cap}.csv\", index=False)\n",
    "\n",
    "# Summary\n",
    "print(\"Rows with MAFLD:\", df[f\"MAFLD_{cap}\"].sum())"
   ]
  },
  {
   "cell_type": "code",
   "execution_count": 17,
   "metadata": {},
   "outputs": [
    {
     "name": "stderr",
     "output_type": "stream",
     "text": [
      "/var/folders/_q/8bx4f_jd77591946tt1yg1sc0000gn/T/ipykernel_57752/1976460562.py:2: DtypeWarning: Columns (4,6,10,11,12,13,15,17,19,20,21,22,23,24,25,31,37,39,43,49,109,110,112,113,114,115,116,117,120,121,122,123,188,193,203,213,221,224,228,232) have mixed types. Specify dtype option on import or set low_memory=False.\n",
      "  df = pd.read_csv(\"../input/liver_qc.cvs\")\n",
      "/var/folders/_q/8bx4f_jd77591946tt1yg1sc0000gn/T/ipykernel_57752/1976460562.py:5: DtypeWarning: Columns (6,10,11,12,13,15,16,39,43,109,110,112,113,115,117,118,121,122,123,187,188,193,200,215,216,221,222,223,224,226,228,229,231,232) have mixed types. Specify dtype option on import or set low_memory=False.\n",
      "  df2 = pd.read_csv(\"../output/MAFLD_matrix_248.csv\")[[\"LABID\", \"MAFLD_248\"]]\n",
      "/var/folders/_q/8bx4f_jd77591946tt1yg1sc0000gn/T/ipykernel_57752/1976460562.py:6: DtypeWarning: Columns (6,10,11,12,13,15,16,39,43,112,113,121,122,224) have mixed types. Specify dtype option on import or set low_memory=False.\n",
      "  df3 = pd.read_csv(\"../output/MAFLD_matrix_263.csv\")[[\"LABID\", \"MAFLD_263\"]]\n",
      "/var/folders/_q/8bx4f_jd77591946tt1yg1sc0000gn/T/ipykernel_57752/1976460562.py:7: DtypeWarning: Columns (6,10,11,12,13,16,39,43,112,113,116,118,122,123,187,200,215,224,226,228,229,231,232) have mixed types. Specify dtype option on import or set low_memory=False.\n",
      "  df4 = pd.read_csv(\"../output/MAFLD_matrix_275.csv\")[[\"LABID\", \"MAFLD_275\"]]\n"
     ]
    }
   ],
   "source": [
    "# Load main DataFrame\n",
    "df = pd.read_csv(\"../input/liver_qc.cvs\")\n",
    "\n",
    "# Load and trim other DataFrames\n",
    "df2 = pd.read_csv(\"../output/MAFLD_matrix_248.csv\")[[\"LABID\", \"MAFLD_248\"]]\n",
    "df3 = pd.read_csv(\"../output/MAFLD_matrix_263.csv\")[[\"LABID\", \"MAFLD_263\"]]\n",
    "df4 = pd.read_csv(\"../output/MAFLD_matrix_275.csv\")[[\"LABID\", \"MAFLD_275\"]]\n",
    "\n",
    "# Merge all on LABID (left join)\n",
    "df = df.merge(df2, on=\"LABID\", how=\"left\")\n",
    "df = df.merge(df3, on=\"LABID\", how=\"left\")\n",
    "df = df.merge(df4, on=\"LABID\", how=\"left\")\n",
    "\n",
    "# Optional: Save merged result\n",
    "df.to_csv(\"../output/liver_with_MAFLD_flags.csv\", index=False)"
   ]
  }
 ],
 "metadata": {
  "kernelspec": {
   "display_name": "networks",
   "language": "python",
   "name": "python3"
  },
  "language_info": {
   "codemirror_mode": {
    "name": "ipython",
    "version": 3
   },
   "file_extension": ".py",
   "mimetype": "text/x-python",
   "name": "python",
   "nbconvert_exporter": "python",
   "pygments_lexer": "ipython3",
   "version": "3.9.20"
  }
 },
 "nbformat": 4,
 "nbformat_minor": 2
}
