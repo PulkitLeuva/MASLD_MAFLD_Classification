{
 "cells": [
  {
   "cell_type": "code",
   "execution_count": null,
   "metadata": {},
   "outputs": [],
   "source": [
    "#convert to csv\n",
    "import pandas as pd\n",
    "df = pd.read_excel(\"/Users/pulkitleuva/Desktop/metamapper/metamapper_24042025_ssg_classification_pl_sr.xlsx\")\n",
    "df.to_csv(\"../input/MASLD_input_metamapper.csv\", index = None)"
   ]
  },
  {
   "cell_type": "code",
   "execution_count": 35,
   "metadata": {},
   "outputs": [
    {
     "name": "stderr",
     "output_type": "stream",
     "text": [
      "/var/folders/_q/8bx4f_jd77591946tt1yg1sc0000gn/T/ipykernel_34297/2265269494.py:3: DtypeWarning: Columns (123,124,125,126,127,128,129,130,131,135,136,137,138,139,140,141,142,144,145,146,148,149,150,152,153,154,155,156,157,158,159,161,162,163,164,165,166,171,172,176,178,179,180,181,184,188,189,190,191,192,193,197,229,236,247,250,261,262,264,273,280,281,284,285,288,289,307,308,309,310,311,312,313,314,315,316,317,330,564,584,599,601,648,652,659,660,661,662,668,676,677,678,679,680,681,686,688,725,732,733,734,735,740,747,748,749,750,752,753,754,755,887,892,894,899,900,901,975,984) have mixed types. Specify dtype option on import or set low_memory=False.\n",
      "  df = pd.read_csv(\"../input/Metamapper_21072025hypertension_Dyslipidemia_hepbc.csv\")\n"
     ]
    },
    {
     "name": "stdout",
     "output_type": "stream",
     "text": [
      "all data points:  10267\n",
      "points with E Median (kPa) values:  9996\n",
      "points with calibration status=OK:  9944\n",
      "points with >10 valid measurements:  9937\n",
      "points with CAP enhanced <20%:  9923\n",
      "consumption_alcohol 7890\n",
      "HEPB_label 7821\n",
      "HEPC_label 7792\n"
     ]
    }
   ],
   "source": [
    "import pandas as pd\n",
    "#check valid data\n",
    "df = pd.read_csv(\"../input/Metamapper_21072025hypertension_Dyslipidemia_hepbc.csv\")\n",
    "#metamapper_20072025_circumference_bp\n",
    "#Metamapper_21072025hypertension_Dyslipidemia_hepbc.csv\n",
    "#MASLD_input_metamapper\n",
    "print(\"all data points: \",len(df))\n",
    "df = df.dropna(subset=\"E Median (kPa)\")\n",
    "print(\"points with E Median (kPa) values: \", len(df))\n",
    "df = df[df[\"Calibration Status\"]==\"OK\"]\n",
    "print(\"points with calibration status=OK: \",len(df))\n",
    "df = df[df[\"Valid measurement number\"]>=10]\n",
    "print(\"points with >10 valid measurements: \",len(df))\n",
    "\n",
    "df = df.loc[df['CAP Enhanced SD (dB/m)'] < 0.20 * df['CAP Enhanced Mean (dB/m)']]\n",
    "print(\"points with CAP enhanced <20%: \",len(df))\n",
    "df = df[df[\"consumption_alcohol\"]=='No']\n",
    "print(\"consumption_alcohol\",len(df)) #HEPB_label\n",
    "df = df[df[\"HEPB_label\"]!='Positive']\n",
    "print(\"HEPB_label\",len(df))\n",
    "df = df[df[\"HEPC_label\"]!='Positive']\n",
    "print(\"HEPC_label\",len(df))\n",
    "df.to_csv(\"../input/liver_qc.cvs\",index=None)"
   ]
  },
  {
   "cell_type": "code",
   "execution_count": 7,
   "metadata": {},
   "outputs": [
    {
     "name": "stdout",
     "output_type": "stream",
     "text": [
      "0\n"
     ]
    }
   ],
   "source": [
    "df = pd.read_csv(\"../input/liver_qc.cvs\")\n",
    "print(len(df['BMI'] >= 23))"
   ]
  },
  {
   "cell_type": "code",
   "execution_count": 39,
   "metadata": {},
   "outputs": [
    {
     "name": "stderr",
     "output_type": "stream",
     "text": [
      "/var/folders/_q/8bx4f_jd77591946tt1yg1sc0000gn/T/ipykernel_34297/113922195.py:4: DtypeWarning: Columns (123,124,125,127,128,129,130,131,135,136,137,138,139,140,141,142,144,145,146,148,149,150,152,153,154,155,156,157,158,159,161,162,163,164,165,166,171,172,176,178,180,181,184,188,189,190,191,193,229,236,247,250,261,262,264,273,280,281,284,285,288,289,307,308,309,310,311,312,313,314,315,316,317,330,668,676,677,678,679,680,681,686,687,688,892,899,901,942,975,984) have mixed types. Specify dtype option on import or set low_memory=False.\n",
      "  df = pd.read_csv(\"../input/liver_qc.cvs\")\n"
     ]
    },
    {
     "name": "stdout",
     "output_type": "stream",
     "text": [
      "Rows with any condition met: 3712\n",
      "Rows without any condition met: 28\n"
     ]
    }
   ],
   "source": [
    "import pandas as pd\n",
    "\n",
    "# Load data\n",
    "df = pd.read_csv(\"../input/liver_qc.cvs\")\n",
    "\n",
    "# Apply CAP filter\n",
    "cap = 248\n",
    "\n",
    "df = df[df[\"CAP Enhanced Mean (dB/m)\"] > cap].copy()\n",
    "\n",
    "# Define individual criteria columns\n",
    "df[\"BMI_cond\"] = (df['BMI'] >= 23).astype(int)\n",
    "df[\"Male_waist_94\"] = ((df['Gender'] == 'Male') & (df['final_waist'] >= 90)).astype(int) #>=94\n",
    "df[\"Male_hdl_40\"] = ((df['Gender'] == 'Male') & (df['Serum HDL Cholesterol'] <= 39)).astype(int)\n",
    "df[\"Female_waist_80\"] = ((df['Gender'] == 'Female') & (df['final_waist'] >= 80)).astype(int)#>= 80\n",
    "df[\"Female_hdl_50\"] = ((df['Gender'] == 'Female') & (df['Serum HDL Cholesterol'] <= 50)).astype(int)\n",
    "#Systolic (mmHg)\n",
    "#Diastolic (mmHg)\n",
    "df[\"Hypertension_cond\"] = ((df['Systolic'] >= 130) | (df['Diastolic'] >= 85) | (df['medHis_highBP_medicine'] == 'Yes')).astype(int)\n",
    "df[\"Triglycerides_cond\"] = (df['Serum Triglycerides'] >= 150).astype(int)\n",
    "#medHis_highSugar\n",
    "df[\"Diabetes_cond\"] = ((df['Diabetic_final'] == 'Yes') | (df['medHis_highSugar'] == 'Yes') ).astype(int)\n",
    "df[\"Prediabetes_cond\"] = (df['Prediabetics_final'] == 'Yes').astype(int)\n",
    "#df[\"Hypertension_cond\"] = (df['Hypertension_final'] == 'Yes').astype(int)\n",
    "df[\"Chol_med_cond\"] = (df['medHis_highChol_medicine'] == 'Yes').astype(int)\n",
    "\n",
    "# List of condition columns\n",
    "condition_cols = [\n",
    "    \"BMI_cond\", \"Male_waist_94\", \"Male_hdl_40\", \"Female_waist_80\",\n",
    "    \"Female_hdl_50\", \"Triglycerides_cond\", \"Diabetes_cond\", \"Prediabetes_cond\",\n",
    "    \"Hypertension_cond\", \"Chol_med_cond\"\n",
    "]\n",
    "\n",
    "# Sum of all conditions per row\n",
    "df[f'MASLD_{cap}_criteria'] = df[condition_cols].sum(axis=1)\n",
    "df[f'MASLD_{cap}'] = (df[f'MASLD_{cap}_criteria'] > 0).astype(int)\n",
    "# Save matrix to CSV\n",
    "df.to_csv(f\"../output/MASLD_matrix_{cap}.csv\", index=False)\n",
    "\n",
    "# Print how many rows have at least one condition met\n",
    "print(\"Rows with any condition met:\", (df[f'MASLD_{cap}'] > 0).sum())\n",
    "print(\"Rows without any condition met:\", (df[f'MASLD_{cap}'] == 0).sum())"
   ]
  },
  {
   "cell_type": "code",
   "execution_count": 65,
   "metadata": {},
   "outputs": [
    {
     "name": "stderr",
     "output_type": "stream",
     "text": [
      "/var/folders/_q/8bx4f_jd77591946tt1yg1sc0000gn/T/ipykernel_54010/2432371349.py:2: DtypeWarning: Columns (4,6,10,11,12,13,15,17,19,20,21,22,23,24,25,31,37,39,43,49,109,110,112,113,114,115,116,117,120,121,122,123,188,193,203,213,221,224,228,232) have mixed types. Specify dtype option on import or set low_memory=False.\n",
      "  df = pd.read_csv(\"../input/liver_qc.cvs\")\n",
      "/var/folders/_q/8bx4f_jd77591946tt1yg1sc0000gn/T/ipykernel_54010/2432371349.py:5: DtypeWarning: Columns (6,10,11,12,13,15,16,39,43,109,110,112,113,115,117,118,121,122,123,187,188,193,200,215,216,221,222,223,224,226,228,229,231,232) have mixed types. Specify dtype option on import or set low_memory=False.\n",
      "  df2 = pd.read_csv(\"../output/MASLD_matrix_248.csv\")[[\"LABID\", \"MASLD_248\"]]\n",
      "/var/folders/_q/8bx4f_jd77591946tt1yg1sc0000gn/T/ipykernel_54010/2432371349.py:6: DtypeWarning: Columns (6,10,11,12,13,15,16,39,43,112,113,121,122,224) have mixed types. Specify dtype option on import or set low_memory=False.\n",
      "  df3 = pd.read_csv(\"../output/MASLD_matrix_263.csv\")[[\"LABID\", \"MASLD_263\"]]\n",
      "/var/folders/_q/8bx4f_jd77591946tt1yg1sc0000gn/T/ipykernel_54010/2432371349.py:7: DtypeWarning: Columns (6,10,11,12,13,16,39,43,112,113,116,118,122,123,187,200,215,224,226,228,229,231,232) have mixed types. Specify dtype option on import or set low_memory=False.\n",
      "  df4 = pd.read_csv(\"../output/MASLD_matrix_275.csv\")[[\"LABID\", \"MASLD_275\"]]\n"
     ]
    }
   ],
   "source": [
    "# Load main DataFrame\n",
    "df = pd.read_csv(\"../input/liver_qc.cvs\")\n",
    "\n",
    "# Load and trim other DataFrames\n",
    "df2 = pd.read_csv(\"../output/MASLD_matrix_248.csv\")[[\"LABID\", \"MASLD_248\"]]\n",
    "df3 = pd.read_csv(\"../output/MASLD_matrix_263.csv\")[[\"LABID\", \"MASLD_263\"]]\n",
    "df4 = pd.read_csv(\"../output/MASLD_matrix_275.csv\")[[\"LABID\", \"MASLD_275\"]]\n",
    "\n",
    "# Merge all on LABID (left join)\n",
    "df = df.merge(df2, on=\"LABID\", how=\"left\")\n",
    "df = df.merge(df3, on=\"LABID\", how=\"left\")\n",
    "df = df.merge(df4, on=\"LABID\", how=\"left\")\n",
    "\n",
    "# Optional: Save merged result\n",
    "df.to_csv(\"../output/liver_with_MASLD_flags.csv\", index=False)"
   ]
  },
  {
   "cell_type": "code",
   "execution_count": 75,
   "metadata": {},
   "outputs": [
    {
     "name": "stderr",
     "output_type": "stream",
     "text": [
      "/var/folders/_q/8bx4f_jd77591946tt1yg1sc0000gn/T/ipykernel_54010/2865683602.py:1: DtypeWarning: Columns (4,6,10,11,12,13,15,17,19,20,21,22,23,24,25,31,37,39,43,49,109,110,112,113,114,115,116,117,120,121,122,123,188,193,203,213,221,224,228,232) have mixed types. Specify dtype option on import or set low_memory=False.\n",
      "  df1 = pd.read_csv(\"/Users/pulkitleuva/Desktop/liver/MAFLD/output/liver_with_MAFLD_flags.csv\")\n",
      "/var/folders/_q/8bx4f_jd77591946tt1yg1sc0000gn/T/ipykernel_54010/2865683602.py:2: DtypeWarning: Columns (4,6,10,11,12,13,15,17,19,20,21,22,23,24,25,31,37,39,43,49,109,110,112,113,114,115,116,117,120,121,122,123,188,193,203,213,221,224,228,232) have mixed types. Specify dtype option on import or set low_memory=False.\n",
      "  df2 =  pd.read_csv(\"/Users/pulkitleuva/Desktop/liver/MASLD/output/liver_with_MASLD_flags.csv\")[[\"LABID\", \"MASLD_248\",\"MASLD_263\", \"MASLD_275\"]]\n"
     ]
    }
   ],
   "source": [
    "\n",
    "df1 = pd.read_csv(\"/Users/pulkitleuva/Desktop/liver/MAFLD/output/liver_with_MAFLD_flags.csv\")\n",
    "df2 =  pd.read_csv(\"/Users/pulkitleuva/Desktop/liver/MASLD/output/liver_with_MASLD_flags.csv\")[[\"LABID\", \"MASLD_248\",\"MASLD_263\", \"MASLD_275\"]]\n",
    "df1 = df1.merge(df2, on=\"LABID\", how=\"left\")\n",
    "df1.to_csv(\"../output/liver_with_MASLD_MAFLD_flags.csv\", index=False)"
   ]
  }
 ],
 "metadata": {
  "kernelspec": {
   "display_name": "networks",
   "language": "python",
   "name": "python3"
  },
  "language_info": {
   "codemirror_mode": {
    "name": "ipython",
    "version": 3
   },
   "file_extension": ".py",
   "mimetype": "text/x-python",
   "name": "python",
   "nbconvert_exporter": "python",
   "pygments_lexer": "ipython3",
   "version": "3.9.20"
  }
 },
 "nbformat": 4,
 "nbformat_minor": 2
}
